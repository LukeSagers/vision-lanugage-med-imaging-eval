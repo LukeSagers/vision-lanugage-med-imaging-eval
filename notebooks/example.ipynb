# Cell 1: Import necessary modules
import pandas as pd
from config import OPENAI_API_KEY, GOOGLE_API_KEY
from openai_utils import run_openai_json, run_openai_chat, encode_image, run_openai_vision
from google_utils import configure, run_gemini_vision, run_gemini_chat

# Cell 2: Configure the models
client = OpenAI(api_key=OPENAI_API_KEY)
model_vision, model = configure()

# Cell 3: Define the models and their corresponding functions
models = {
    "OpenAI JSON": lambda: run_openai_json(client, prompt),
    "OpenAI Chat": lambda: run_openai_chat(client, prompt),
    "OpenAI Vision": lambda: run_openai_vision(client, prompt, image_path),
    "Gemini Vision": lambda: run_gemini_vision(model_vision, prompt, image_path),
    "Gemini Chat": lambda: run_gemini_chat(model, prompt)
}

# Cell 4: Specify the models you want to run
models_to_run = ["OpenAI JSON", "OpenAI Chat", "Gemini Vision"]

# Cell 5: Run the models and store the results in a DataFrame
results = pd.DataFrame(columns=["Model", "Response"])
for model_name in models_to_run:
    response = models[model_name]()
    results = results.append({
        "Model": model_name,
        "Response": response
    }, ignore_index=True)

# Cell 6: Display the results
results