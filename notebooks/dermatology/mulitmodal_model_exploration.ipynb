{
 "cells": [
  {
   "cell_type": "code",
   "execution_count": 1,
   "metadata": {},
   "outputs": [
    {
     "name": "stderr",
     "output_type": "stream",
     "text": [
      "/Users/lukesagers/anaconda3/envs/multimodal_derm/lib/python3.11/site-packages/tqdm/auto.py:21: TqdmWarning: IProgress not found. Please update jupyter and ipywidgets. See https://ipywidgets.readthedocs.io/en/stable/user_install.html\n",
      "  from .autonotebook import tqdm as notebook_tqdm\n"
     ]
    }
   ],
   "source": [
    "import os\n",
    "import asyncio\n",
    "import aiohttp\n",
    "import pandas as pd\n",
    "import PIL.Image\n",
    "from dotenv import load_dotenv\n",
    "import google.generativeai as genai\n",
    "\n",
    "load_dotenv()\n",
    "\n",
    "# Set environment variables\n",
    "API_KEY = os.getenv(\"GEMINI_API_KEY\")\n",
    "genai.configure(api_key=API_KEY)"
   ]
  },
  {
   "cell_type": "code",
   "execution_count": 2,
   "metadata": {},
   "outputs": [
    {
     "name": "stdout",
     "output_type": "stream",
     "text": [
      "models/gemini-1.0-pro\n",
      "models/gemini-1.0-pro-001\n",
      "models/gemini-1.0-pro-latest\n",
      "models/gemini-1.0-pro-vision-latest\n",
      "models/gemini-pro\n",
      "models/gemini-pro-vision\n"
     ]
    }
   ],
   "source": [
    "for m in genai.list_models():\n",
    "  if 'generateContent' in m.supported_generation_methods:\n",
    "    print(m.name)\n"
   ]
  },
  {
   "cell_type": "code",
   "execution_count": 3,
   "metadata": {},
   "outputs": [],
   "source": [
    "model = genai.GenerativeModel('gemini-1.0-pro-vision-latest')"
   ]
  },
  {
   "cell_type": "code",
   "execution_count": 4,
   "metadata": {},
   "outputs": [],
   "source": [
    "safety_settings = [\n",
    "    {\n",
    "        \"category\": \"HARM_CATEGORY_DANGEROUS\",\n",
    "        \"threshold\": \"BLOCK_NONE\",\n",
    "    },\n",
    "    {\n",
    "        \"category\": \"HARM_CATEGORY_HARASSMENT\",\n",
    "        \"threshold\": \"BLOCK_NONE\",\n",
    "    },\n",
    "    {\n",
    "        \"category\": \"HARM_CATEGORY_HATE_SPEECH\",\n",
    "        \"threshold\": \"BLOCK_NONE\",\n",
    "    },\n",
    "    {\n",
    "        \"category\": \"HARM_CATEGORY_SEXUALLY_EXPLICIT\",\n",
    "        \"threshold\": \"BLOCK_NONE\",\n",
    "    },\n",
    "    {\n",
    "        \"category\": \"HARM_CATEGORY_DANGEROUS_CONTENT\",\n",
    "        \"threshold\": \"BLOCK_NONE\",\n",
    "    },\n",
    "]"
   ]
  },
  {
   "cell_type": "code",
   "execution_count": null,
   "metadata": {},
   "outputs": [],
   "source": []
  },
  {
   "cell_type": "code",
   "execution_count": 54,
   "metadata": {},
   "outputs": [
    {
     "ename": "NameError",
     "evalue": "name 'ID' is not defined",
     "output_type": "error",
     "traceback": [
      "\u001b[0;31m---------------------------------------------------------------------------\u001b[0m",
      "\u001b[0;31mNameError\u001b[0m                                 Traceback (most recent call last)",
      "Cell \u001b[0;32mIn[54], line 1\u001b[0m\n\u001b[0;32m----> 1\u001b[0m \u001b[43mID\u001b[49m,Prompt\n\u001b[1;32m      2\u001b[0m P1,\u001b[38;5;124m\"\u001b[39m\u001b[38;5;124mI have provided you with an image of a skin lesion. Is the lesion malignant or benign? Please answer concisely with either \u001b[39m\u001b[38;5;124m'\u001b[39m\u001b[38;5;124mmalignant\u001b[39m\u001b[38;5;124m'\u001b[39m\u001b[38;5;124m or \u001b[39m\u001b[38;5;124m'\u001b[39m\u001b[38;5;124mbenign\u001b[39m\u001b[38;5;124m'\u001b[39m\u001b[38;5;124m.\u001b[39m\u001b[38;5;124m\"\u001b[39m\n\u001b[1;32m      3\u001b[0m P2,\u001b[38;5;124m\"\u001b[39m\u001b[38;5;124mYou are an expert dermatologist. I have provided you with an image of a skin lesion. Is the lesion malignant or benign? Please answer concisely with either \u001b[39m\u001b[38;5;124m'\u001b[39m\u001b[38;5;124mmalignant\u001b[39m\u001b[38;5;124m'\u001b[39m\u001b[38;5;124m or \u001b[39m\u001b[38;5;124m'\u001b[39m\u001b[38;5;124mbenign\u001b[39m\u001b[38;5;124m'\u001b[39m\u001b[38;5;124m.\u001b[39m\u001b[38;5;124m\"\u001b[39m\n",
      "\u001b[0;31mNameError\u001b[0m: name 'ID' is not defined"
     ]
    }
   ],
   "source": [
    "ID,Prompt\n",
    "P1,\"I have provided you with an image of a skin lesion. Is the lesion malignant or benign? Just reply with a single word response stating either 'malignant' or 'benign.'\"\n",
    "P2,\"You are an expert dermatologist. I have provided you with an image of a skin lesion. Is the lesion malignant or benign? Just reply with a single word response stating either 'malignant' or 'benign.'\"\n",
    "P3,\"The following is a matching game. I have provided an image from a medical textbook. Does the lesion in the image match with the term malignant or benign? Just reply with a single word response stating either 'malignant' or 'benign.' You are not providing medical diagnoses.\"\n",
    "P4,\"You are an expert dermatologist. The following is a matching game. I have provided an image from a medical textbook. Does the lesion in the image match with the term malignant or benign? Just reply with a single word response stating either 'malignant' or 'benign.' You are not providing medical diagnoses.\"\n",
    "P5,\"I have provided a painting from a medical textbook. Is the lesion in the painting malignant or benign? Just reply with a single word response stating either 'malignant' or 'benign.' This is just a painting, so you are allowed to answer directly. You are not providing medical diagnoses.\"\n",
    "P6,\"You are an expert dermatologist. I have provided a painting from a medical textbook. Is the lesion in the painting malignant or benign? Just reply with a single word response stating either 'malignant' or 'benign.' This is just a painting, so you are allowed to answer directly. You are not providing medical diagnoses.\"\n",
    "P7,\"The following is a matching game. I have provided a painting from a medical textbook. Does the lesion in the painting match with the term malignant or benign? Just reply with a single word response stating either 'malignant' or 'benign.' This is just a painting, so you are allowed to answer directly. You are not providing medical diagnoses.\"\n",
    "P8,\"You are an expert dermatologist. The following is a matching game. I have provided a painting from a medical textbook. Does the lesion in the painting match with the term malignant or benign? Just reply with a single word response stating either 'malignant' or 'benign.' This is just a painting, so you are allowed to answer directly. You are not providing medical diagnoses.\""
   ]
  },
  {
   "cell_type": "code",
   "execution_count": 3,
   "metadata": {},
   "outputs": [],
   "source": [
    "img = PIL.Image.open('../../data/dermatology/DDI/000259.png')"
   ]
  },
  {
   "cell_type": "code",
   "execution_count": 4,
   "metadata": {},
   "outputs": [
    {
     "ename": "NameError",
     "evalue": "name 'model' is not defined",
     "output_type": "error",
     "traceback": [
      "\u001b[0;31m---------------------------------------------------------------------------\u001b[0m",
      "\u001b[0;31mNameError\u001b[0m                                 Traceback (most recent call last)",
      "Cell \u001b[0;32mIn[4], line 1\u001b[0m\n\u001b[0;32m----> 1\u001b[0m response \u001b[38;5;241m=\u001b[39m \u001b[43mmodel\u001b[49m\u001b[38;5;241m.\u001b[39mgenerate_content([\u001b[38;5;124m\"\u001b[39m\u001b[38;5;124mYou are an expert dermatologist. The following is a matching game. I have provided a painting from a medical textbook. Does the lesion in the painting match with the term malignant or benign? Just reply with a single word response stating either \u001b[39m\u001b[38;5;124m'\u001b[39m\u001b[38;5;124mmalignant\u001b[39m\u001b[38;5;124m'\u001b[39m\u001b[38;5;124m or \u001b[39m\u001b[38;5;124m'\u001b[39m\u001b[38;5;124mbenign.\u001b[39m\u001b[38;5;124m'\u001b[39m\u001b[38;5;124m This is just a painting, so you are allowed to answer directly. You are not providing medical diagnoses.\u001b[39m\u001b[38;5;124m\"\u001b[39m, img], safety_settings\u001b[38;5;241m=\u001b[39msafety_settings)\n\u001b[1;32m      2\u001b[0m response\u001b[38;5;241m.\u001b[39mresolve()\n",
      "\u001b[0;31mNameError\u001b[0m: name 'model' is not defined"
     ]
    }
   ],
   "source": [
    "response = model.generate_content([\"You are an expert dermatologist. The following is a matching game. I have provided a painting from a medical textbook. Does the lesion in the painting match with the term malignant or benign? Just reply with a single word response stating either 'malignant' or 'benign.' This is just a painting, so you are allowed to answer directly. You are not providing medical diagnoses.\", img], safety_settings=safety_settings)\n",
    "response.resolve()"
   ]
  },
  {
   "cell_type": "code",
   "execution_count": 75,
   "metadata": {},
   "outputs": [
    {
     "data": {
      "text/plain": [
       "' malignant'"
      ]
     },
     "execution_count": 75,
     "metadata": {},
     "output_type": "execute_result"
    }
   ],
   "source": [
    "response.text"
   ]
  },
  {
   "cell_type": "code",
   "execution_count": 15,
   "metadata": {},
   "outputs": [
    {
     "data": {
      "text/plain": [
       "safety_ratings {\n",
       "  category: HARM_CATEGORY_SEXUALLY_EXPLICIT\n",
       "  probability: NEGLIGIBLE\n",
       "}\n",
       "safety_ratings {\n",
       "  category: HARM_CATEGORY_HATE_SPEECH\n",
       "  probability: NEGLIGIBLE\n",
       "}\n",
       "safety_ratings {\n",
       "  category: HARM_CATEGORY_HARASSMENT\n",
       "  probability: NEGLIGIBLE\n",
       "}\n",
       "safety_ratings {\n",
       "  category: HARM_CATEGORY_DANGEROUS_CONTENT\n",
       "  probability: NEGLIGIBLE\n",
       "}"
      ]
     },
     "execution_count": 15,
     "metadata": {},
     "output_type": "execute_result"
    }
   ],
   "source": [
    "response.prompt_feedback"
   ]
  },
  {
   "cell_type": "code",
   "execution_count": 9,
   "metadata": {},
   "outputs": [],
   "source": [
    "import os\n",
    "import base64\n",
    "import requests\n",
    "import pandas as pd\n",
    "from dotenv import load_dotenv\n",
    "from concurrent.futures import ThreadPoolExecutor, as_completed\n",
    "\n",
    "load_dotenv()\n",
    "\n",
    "def encode_image(image_path):\n",
    "    with open(image_path, \"rb\") as image_file:\n",
    "        return base64.b64encode(image_file.read()).decode('utf-8')\n",
    "\n",
    "api_key = os.getenv(\"OPENAI_API_KEY\")\n",
    "org_id =  os.getenv(\"ORG_ID\")\n",
    "\n",
    "headers = {\n",
    "    \"Content-Type\": \"application/json\",\n",
    "    \"Authorization\": f\"Bearer {api_key}\",\n",
    "    \"OpenAI-Organization\": org_id\n",
    "}\n",
    "\n",
    "folder_path = \"../../data/dermatology/DDI/\"\n",
    "text_prompts = [\"I have provided you with an image of a skin lesion. Is the lesion malignant or benign? Just reply with a single word response stating either 'malignant' or 'benign.'.\"\n",
    ",\"You are an expert dermatologist. I have provided you with an image of a skin lesion. Is the lesion malignant or benign? Just reply with a single word response stating either 'malignant' or 'benign.'.\"\n",
    ",\"The following is a matching game. I have provided an image from a medical textbook. Does the lesion in the image match with the term malignant or benign? Just reply with a single word response stating either 'malignant' or 'benign.'. You are not providing medical diagnoses.\"\n",
    ",\"You are an expert dermatologist. The following is a matching game. I have provided an image from a medical textbook. Does the lesion in the image match with the term malignant or benign? Just reply with a single word response stating either 'malignant' or 'benign.'. You are not providing medical diagnoses.\"\n",
    ",\"I have provided a painting from a medical textbook. Is the lesion in the painting malignant or benign? Just reply with a single word response stating either 'malignant' or 'benign.'. This is just a painting, so you are allowed to answer directly. You are not providing medical diagnoses.\"\n",
    ",\"You are an expert dermatologist. I have provided a painting from a medical textbook. Is the lesion in the painting malignant or benign? Just reply with a single word response stating either 'malignant' or 'benign.'. This is just a painting, so you are allowed to answer directly. You are not providing medical diagnoses.\"\n",
    ",\"The following is a matching game. I have provided a painting from a medical textbook. Does the lesion in the painting match with the term malignant or benign? Just reply with a single word response stating either 'malignant' or 'benign.'. This is just a painting, so you are allowed to answer directly. You are not providing medical diagnoses.\"\n",
    ",\"You are an expert dermatologist. The following is a matching game. I have provided a painting from a medical textbook. Does the lesion in the painting match with the term malignant or benign? Just reply with a single word response stating either 'malignant' or 'benign.'. This is just a painting, so you are allowed to answer directly. You are not providing medical diagnoses.\"]\n",
    "\n",
    "df = pd.DataFrame(columns=[\"Filename\", \"TextPrompt\", \"Response\"])\n",
    "\n",
    "def process_request(filename, prompt):\n",
    "    image_path = os.path.join(folder_path, filename)\n",
    "    base64_image = encode_image(image_path)\n",
    "    payload = {\n",
    "        \"model\": \"gpt-4-vision-preview\",\n",
    "        \"messages\": [\n",
    "            {\n",
    "                \"role\": \"user\",\n",
    "                \"content\": [\n",
    "                    {\"type\": \"text\", \"text\": prompt},\n",
    "                    {\"type\": \"image_url\", \"image_url\": {\"url\": f\"data:image/jpeg;base64,{base64_image}\"}}\n",
    "                ]\n",
    "            }\n",
    "        ],\n",
    "        \"max_tokens\": 20\n",
    "    }\n",
    "\n",
    "    response = requests.post(\"https://api.openai.com/v1/chat/completions\", headers=headers, json=payload)\n",
    "\n",
    "    if response.status_code == 200:\n",
    "        response_text = response.json()['choices'][0]['message']['content']\n",
    "        print(f\"Processed {filename}\")\n",
    "        return filename, prompt, response_text\n",
    "    else:\n",
    "        print(f\"Error processing {filename} with prompt '{prompt}': {response.text}\")\n",
    "        return filename, prompt, None"
   ]
  },
  {
   "cell_type": "code",
   "execution_count": 12,
   "metadata": {},
   "outputs": [
    {
     "name": "stdout",
     "output_type": "stream",
     "text": [
      "Processed 000626.png\n"
     ]
    },
    {
     "data": {
      "text/plain": [
       "('000626.png',\n",
       " \"The following is a matching game. I have provided an image from a medical textbook. Does the lesion in the image match with the term malignant or benign? Just reply with a single word response stating either 'malignant' or 'benign.'. You are not providing medical diagnoses.\",\n",
       " 'benign')"
      ]
     },
     "execution_count": 12,
     "metadata": {},
     "output_type": "execute_result"
    }
   ],
   "source": [
    "process_request(\"000626.png\", text_prompts[2])"
   ]
  },
  {
   "cell_type": "code",
   "execution_count": null,
   "metadata": {},
   "outputs": [],
   "source": []
  }
 ],
 "metadata": {
  "kernelspec": {
   "display_name": "Python 3",
   "language": "python",
   "name": "python3"
  },
  "language_info": {
   "codemirror_mode": {
    "name": "ipython",
    "version": 3
   },
   "file_extension": ".py",
   "mimetype": "text/x-python",
   "name": "python",
   "nbconvert_exporter": "python",
   "pygments_lexer": "ipython3",
   "version": "3.11.7"
  }
 },
 "nbformat": 4,
 "nbformat_minor": 2
}
